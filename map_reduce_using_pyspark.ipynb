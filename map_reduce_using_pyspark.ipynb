{
  "cells": [
    {
      "cell_type": "markdown",
      "metadata": {
        "id": "539urXeCnPxK"
      },
      "source": [
        "# MapReduce using Pyspark\n",
        "\n",
        "Dataset:  NYC Taxi and Limousine Commission (TLC)\n",
        "\n",
        "Big Data Framework: Spark using Pyspark\n",
        "\n",
        "Link to access the data: S. Mohanasundaram. “Newyork Yellow Taxi Trip Data.”, 2022. URL https://www.kaggle.com/datasets/microize/newyork-yellow-taxi-trip-data-2020-2019?select=yellow_tripdata_2020-06.csv."
      ]
    },
    {
      "cell_type": "code",
      "execution_count": 1,
      "metadata": {
        "colab": {
          "base_uri": "https://localhost:8080/"
        },
        "id": "ughmdAOAvN6N",
        "outputId": "cfa9de65-9191-4d77-ff5f-4eb29ffe9207"
      },
      "outputs": [
        {
          "name": "stdout",
          "output_type": "stream",
          "text": [
            "^C\n"
          ]
        }
      ],
      "source": [
        "!pip install pyspark\n",
        "!pip install plotly\n",
        "!pip install networkx\n",
        "!pip install pyvis\n",
        "\n",
        "from pyvis.network import Network\n",
        "import networkx as nx\n",
        "import pandas as pd\n",
        "import plotly.express as px\n",
        "from pyspark.sql import SparkSession\n",
        "from pyspark.sql.functions import input_file_name\n",
        "import glob\n",
        "from pyspark.sql.types import StructType, StructField, StringType\n",
        "from pyspark.sql.functions import col, date_format, concat\n",
        "from pyspark.sql.functions import year, month, dayofmonth, hour, dayofweek\n",
        "import plotly.subplots as sp\n",
        "import plotly.graph_objects as go\n"
      ]
    },
    {
      "cell_type": "markdown",
      "metadata": {
        "id": "4wsYYb63YxRM"
      },
      "source": [
        "## Get Partitioned Data"
      ]
    },
    {
      "cell_type": "code",
      "execution_count": null,
      "metadata": {
        "id": "2-EK33eiUa4j"
      },
      "outputs": [],
      "source": [
        "spark = SparkSession.builder.appName(\"ReadAllFiles\").getOrCreate()"
      ]
    },
    {
      "cell_type": "code",
      "execution_count": null,
      "metadata": {
        "colab": {
          "base_uri": "https://localhost:8080/"
        },
        "id": "5_LfJvAN0PKp",
        "outputId": "1a70ba09-0dc8-49d9-8ac3-5b622470d60f"
      },
      "outputs": [
        {
          "name": "stdout",
          "output_type": "stream",
          "text": [
            "+--------+--------------------+---------------------+---------------+-------------+----------+------------------+------------+------------+------------+-----------+-----+-------+----------+------------+---------------------+------------+--------------------+\n",
            "|VendorID|tpep_pickup_datetime|tpep_dropoff_datetime|passenger_count|trip_distance|RatecodeID|store_and_fwd_flag|PULocationID|DOLocationID|payment_type|fare_amount|extra|mta_tax|tip_amount|tolls_amount|improvement_surcharge|total_amount|congestion_surcharge|\n",
            "+--------+--------------------+---------------------+---------------+-------------+----------+------------------+------------+------------+------------+-----------+-----+-------+----------+------------+---------------------+------------+--------------------+\n",
            "|       1| 2019-01-01 00:46:40|  2019-01-01 00:53:20|              1|          1.5|         1|                 N|         151|         239|           1|        7.0|  0.5|    0.5|      1.65|         0.0|                  0.3|        9.95|                NULL|\n",
            "|       1| 2019-01-01 00:59:47|  2019-01-01 01:18:59|              1|          2.6|         1|                 N|         239|         246|           1|       14.0|  0.5|    0.5|       1.0|         0.0|                  0.3|        16.3|                NULL|\n",
            "|       2| 2018-12-21 13:48:30|  2018-12-21 13:52:40|              3|          0.0|         1|                 N|         236|         236|           1|        4.5|  0.5|    0.5|       0.0|         0.0|                  0.3|         5.8|                NULL|\n",
            "+--------+--------------------+---------------------+---------------+-------------+----------+------------------+------------+------------+------------+-----------+-----+-------+----------+------------+---------------------+------------+--------------------+\n",
            "only showing top 3 rows\n",
            "\n"
          ]
        }
      ],
      "source": [
        "#This code gets all the files\n",
        "def get_data():\n",
        "\n",
        "  # Initialize a Spark session\n",
        "  # Specify the folder path, files can be downloaded and saved to google drive\n",
        "  folder_path = \"path_to_files\"\n",
        "\n",
        "  # Get a list of all CSV file paths in the folder\n",
        "  file_paths = glob.glob(folder_path + \"/*.csv\")\n",
        "\n",
        "  # Create a list of DataFrames by reading the CSV files\n",
        "  dataframes = [spark.read.csv(file_path, header=True, inferSchema=True) for file_path in file_paths]\n",
        "\n",
        "  # Concatenate the DataFrames into one DataFrame\n",
        "  combined_df = dataframes[0]\n",
        "  for df in dataframes[1:]:\n",
        "      combined_df = combined_df.union(df)\n",
        "\n",
        "  return combined_df\n",
        "\n",
        "\n",
        "combined_df = get_data()\n",
        "combined_df.show(3)"
      ]
    },
    {
      "cell_type": "code",
      "execution_count": 5,
      "metadata": {
        "colab": {
          "base_uri": "https://localhost:8080/"
        },
        "id": "3NpwtVumUC5N",
        "outputId": "0ca6dc66-4f6a-448e-86e1-12166dfb6204"
      },
      "outputs": [
        {
          "name": "stdout",
          "output_type": "stream",
          "text": [
            "+--------+--------------------+---------------------+---------------+-------------+----------+------------------+------------+------------+------------+-----------+-----+-------+----------+------------+---------------------+------------+--------------------+\n",
            "|VendorID|tpep_pickup_datetime|tpep_dropoff_datetime|passenger_count|trip_distance|RatecodeID|store_and_fwd_flag|PULocationID|DOLocationID|payment_type|fare_amount|extra|mta_tax|tip_amount|tolls_amount|improvement_surcharge|total_amount|congestion_surcharge|\n",
            "+--------+--------------------+---------------------+---------------+-------------+----------+------------------+------------+------------+------------+-----------+-----+-------+----------+------------+---------------------+------------+--------------------+\n",
            "|       1| 2019-01-01 00:46:40|  2019-01-01 00:53:20|              1|          1.5|         1|                 N|         151|         239|           1|        7.0|  0.5|    0.5|      1.65|         0.0|                  0.3|        9.95|                NULL|\n",
            "|       1| 2019-01-01 00:59:47|  2019-01-01 01:18:59|              1|          2.6|         1|                 N|         239|         246|           1|       14.0|  0.5|    0.5|       1.0|         0.0|                  0.3|        16.3|                NULL|\n",
            "|       2| 2018-12-21 13:48:30|  2018-12-21 13:52:40|              3|          0.0|         1|                 N|         236|         236|           1|        4.5|  0.5|    0.5|       0.0|         0.0|                  0.3|         5.8|                NULL|\n",
            "|       2| 2018-11-28 15:52:25|  2018-11-28 15:55:45|              5|          0.0|         1|                 N|         193|         193|           2|        3.5|  0.5|    0.5|       0.0|         0.0|                  0.3|        7.55|                NULL|\n",
            "|       2| 2018-11-28 15:56:57|  2018-11-28 15:58:33|              5|          0.0|         2|                 N|         193|         193|           2|       52.0|  0.0|    0.5|       0.0|         0.0|                  0.3|       55.55|                NULL|\n",
            "+--------+--------------------+---------------------+---------------+-------------+----------+------------------+------------+------------+------------+-----------+-----+-------+----------+------------+---------------------+------------+--------------------+\n",
            "only showing top 5 rows\n",
            "\n"
          ]
        }
      ],
      "source": [
        "#demonstration using one file\n",
        "combined_df = spark.read.csv(\"path_to_file\", header=True, inferSchema=True)\n",
        "combined_df.show(5)\n"
      ]
    },
    {
      "cell_type": "code",
      "execution_count": 6,
      "metadata": {
        "colab": {
          "base_uri": "https://localhost:8080/"
        },
        "id": "K6EuhemB_aro",
        "outputId": "4b0c3a66-0a62-4024-edde-571bb8043faa"
      },
      "outputs": [
        {
          "name": "stdout",
          "output_type": "stream",
          "text": [
            "+--------+--------------------+---------------------+---------------+-------------+----------+------------------+------------+------------+------------+-----------+-----+-------+----------+------------+---------------------+------------+--------------------+----------------+-----------------+----+-----+----------------+------------+----------+----+---------+\n",
            "|VendorID|tpep_pickup_datetime|tpep_dropoff_datetime|passenger_count|trip_distance|RatecodeID|store_and_fwd_flag|PULocationID|DOLocationID|payment_type|fare_amount|extra|mta_tax|tip_amount|tolls_amount|improvement_surcharge|total_amount|congestion_surcharge|tpep_pickup_date|tpep_dropoff_date|year|month|day_of_week_name|   year-week|year-month|hour|year-hour|\n",
            "+--------+--------------------+---------------------+---------------+-------------+----------+------------------+------------+------------+------------+-----------+-----+-------+----------+------------+---------------------+------------+--------------------+----------------+-----------------+----+-----+----------------+------------+----------+----+---------+\n",
            "|       1| 2019-01-01 00:46:40|  2019-01-01 00:53:20|              1|          1.5|         1|                 N|         151|         239|           1|        7.0|  0.5|    0.5|      1.65|         0.0|                  0.3|        9.95|                NULL|      2019-01-01|       2019-01-01|2019|    1|         Tuesday|2019-Tuesday|    2019-1|  00|  2019-00|\n",
            "|       1| 2019-01-01 00:59:47|  2019-01-01 01:18:59|              1|          2.6|         1|                 N|         239|         246|           1|       14.0|  0.5|    0.5|       1.0|         0.0|                  0.3|        16.3|                NULL|      2019-01-01|       2019-01-01|2019|    1|         Tuesday|2019-Tuesday|    2019-1|  00|  2019-00|\n",
            "|       2| 2018-12-21 13:48:30|  2018-12-21 13:52:40|              3|          0.0|         1|                 N|         236|         236|           1|        4.5|  0.5|    0.5|       0.0|         0.0|                  0.3|         5.8|                NULL|      2018-12-21|       2018-12-21|2018|   12|          Friday| 2018-Friday|   2018-12|  13|  2018-13|\n",
            "+--------+--------------------+---------------------+---------------+-------------+----------+------------------+------------+------------+------------+-----------+-----+-------+----------+------------+---------------------+------------+--------------------+----------------+-----------------+----+-----+----------------+------------+----------+----+---------+\n",
            "only showing top 3 rows\n",
            "\n"
          ]
        }
      ],
      "source": [
        "# Get date columns\n",
        "from pyspark.sql.functions import split, col, substring, substring_index, lit\n",
        "\n",
        "def get_date_cols(df):\n",
        "\n",
        "  df = df.withColumn(\"tpep_pickup_date\", date_format(col(\"tpep_pickup_datetime\"), \"yyyy-MM-dd\"))\n",
        "\n",
        "  df = df.withColumn(\"tpep_dropoff_date\", date_format(col(\"tpep_dropoff_datetime\"), \"yyyy-MM-dd\"))\n",
        "\n",
        "  df= df.withColumn('year',year(df['tpep_pickup_date'])).withColumn('month', month(df['tpep_pickup_date']))\n",
        "\n",
        "  df = df.withColumn('day_of_week_name', date_format('tpep_pickup_date', 'EEEE'))\n",
        "\n",
        "  df = df.withColumn(\"year-week\", concat(col(\"year\"),  lit(\"-\"), col(\"day_of_week_name\")))\n",
        "\n",
        "  df = df.withColumn(\"year-month\", concat(col(\"year\"),  lit(\"-\"), col(\"month\")))\n",
        "\n",
        "  df = df.withColumn(\"hour\", substring_index(df[\"tpep_pickup_datetime\"], \" \", 2).substr(12, 2))\n",
        "\n",
        "  df = df.withColumn(\"year-hour\", concat(col(\"year\"),  lit(\"-\"), col(\"hour\")))\n",
        "\n",
        "  return df\n",
        "\n",
        "combined_df_1 = get_date_cols(combined_df)\n",
        "combined_df_1.show(3)"
      ]
    },
    {
      "cell_type": "code",
      "execution_count": null,
      "metadata": {
        "id": "iybgBlVFpBry"
      },
      "outputs": [],
      "source": []
    },
    {
      "cell_type": "markdown",
      "metadata": {
        "id": "VNwwoBz-tfIo"
      },
      "source": [
        "## Lookup Tables"
      ]
    },
    {
      "cell_type": "code",
      "execution_count": 7,
      "metadata": {
        "id": "28umxMLHdWzt"
      },
      "outputs": [],
      "source": [
        "# Get lookup table for locattions\n",
        "\n",
        "def get_lookup_tables():\n",
        "\n",
        "  #Locations Lookup\n",
        "  excel_file_path = \"taxi+_zone_lookup.csv\"\n",
        "  locations = pd.read_csv(excel_file_path)\n",
        "  locations = locations[[\"LocationID\", \"Borough\", 'Zone']]\n",
        "  locations_spark = spark.createDataFrame(locations)\n",
        "\n",
        "  #pickup locations\n",
        "  pu_locations_spark = locations_spark.withColumnRenamed(\"LocationID\", \"PULocationID\")\n",
        "  pu_locations_spark = pu_locations_spark.withColumnRenamed(\"Zone\", \"PU_Zone\")\n",
        "\n",
        "  #Drop-off locations\n",
        "  do_locations_spark = locations_spark.withColumnRenamed(\"LocationID\", \"DOLocationID\")\n",
        "  do_locations_spark = do_locations_spark.withColumnRenamed(\"Zone\", \"DO_Zone\")\n",
        "\n",
        "  # RateCode Lookups\n",
        "  ratecode_path = \"RateCode.csv\"\n",
        "  ratecode = pd.read_csv(ratecode_path, delimiter=';')\n",
        "  ratecode_spark = spark.createDataFrame(ratecode)\n",
        "\n",
        "  #Vendor Lookups\n",
        "  vendor_path = \"Vendors.csv\"\n",
        "  vendor = pd.read_csv(vendor_path, delimiter=';')\n",
        "  vendor_spark = spark.createDataFrame(vendor)\n",
        "\n",
        "  # Payments Lookups\n",
        "  payments_path = \"Payments.csv\"\n",
        "  payments = pd.read_csv(payments_path, delimiter=';')\n",
        "  payments_spark = spark.createDataFrame(payments)\n",
        "\n",
        "  return pu_locations_spark, do_locations_spark, ratecode_spark, vendor_spark, payments_spark\n",
        "\n"
      ]
    },
    {
      "cell_type": "code",
      "execution_count": 8,
      "metadata": {
        "id": "SeUrKKIddutQ"
      },
      "outputs": [],
      "source": [
        "# merge df with locations\n",
        "\n",
        "def join_lookup_tables(df, pu_locations_spark, do_locations_spark, ratecode_spark, vendor_spark, payments_spark):\n",
        "\n",
        "  left_joined_df = df.join(pu_locations_spark, on = \"PULocationID\" , how=\"left\")\n",
        "  left_joined_df = left_joined_df.withColumnRenamed(\"Borough\", \"Pick_Up_Town\")\n",
        "\n",
        "  left_joined_df = left_joined_df.join(do_locations_spark, on = \"DOLocationID\" , how=\"left\")\n",
        "  left_joined_df = left_joined_df.withColumnRenamed(\"Borough\", \"Drop_Off_Town\")\n",
        "\n",
        "  left_joined_df = left_joined_df.join(ratecode_spark, on = \"RateCodeID\" , how=\"left\")\n",
        "\n",
        "  left_joined_df = left_joined_df.join(vendor_spark, on = \"VendorID\" , how=\"left\")\n",
        "\n",
        "  left_joined_df = left_joined_df.join(payments_spark, on = \"payment_type\" , how=\"left\")\n",
        "\n",
        "  left_joined_df = left_joined_df.withColumn(\"source_destination_town\", concat(col(\"Pick_Up_Town\"),  lit(\"-\"), col(\"Drop_Off_Town\")))\n",
        "\n",
        "\n",
        "  # get only the necessary columns\n",
        "\n",
        "  columns_to_drop = [\"payment_type\",\"VendorID\", \"RatecodeID\", \"DOLocationID\", \"PULocationID\" , \"tpep_pickup_datetime\", \"tpep_dropoff_datetime\" ]\n",
        "\n",
        "  left_joined_df = left_joined_df.drop(*columns_to_drop)\n",
        "\n",
        "  return left_joined_df"
      ]
    },
    {
      "cell_type": "code",
      "execution_count": 9,
      "metadata": {
        "id": "_fav-yKyebzE"
      },
      "outputs": [],
      "source": [
        "pu_locations_spark, do_locations_spark, ratecode_spark, vendor_spark, payments_spark = get_lookup_tables()\n",
        "processed_df =  join_lookup_tables(combined_df_1, pu_locations_spark, do_locations_spark, ratecode_spark, vendor_spark, payments_spark)\n"
      ]
    },
    {
      "cell_type": "code",
      "execution_count": 10,
      "metadata": {
        "colab": {
          "base_uri": "https://localhost:8080/"
        },
        "id": "ea-gh0CqfWtO",
        "outputId": "6e20dfcb-dc11-415c-a3e7-d38be529191a"
      },
      "outputs": [
        {
          "name": "stdout",
          "output_type": "stream",
          "text": [
            "+---------------+-------------+------------------+-----------+-----+-------+----------+------------+---------------------+------------+--------------------+----------------+-----------------+----+-----+----------------+-----------+----------+----+---------+------------+-------------+-------------+--------------------+-------------------+--------------------+------------------+-----------------------+\n",
            "|passenger_count|trip_distance|store_and_fwd_flag|fare_amount|extra|mta_tax|tip_amount|tolls_amount|improvement_surcharge|total_amount|congestion_surcharge|tpep_pickup_date|tpep_dropoff_date|year|month|day_of_week_name|  year-week|year-month|hour|year-hour|Pick_Up_Town|      PU_Zone|Drop_Off_Town|             DO_Zone|RateCodeDescription|   VendorDescription|PaymentDescription|source_destination_town|\n",
            "+---------------+-------------+------------------+-----------+-----+-------+----------+------------+---------------------+------------+--------------------+----------------+-----------------+----+-----+----------------+-----------+----------+----+---------+------------+-------------+-------------+--------------------+-------------------+--------------------+------------------+-----------------------+\n",
            "|              2|         2.68|                 N|       11.0|  0.0|    0.5|       0.0|         0.0|                  0.3|        11.8|                NULL|      2019-01-13|       2019-01-13|2019|    1|          Sunday|2019-Sunday|    2019-1|  17|  2019-17|   Manhattan|Alphabet City|    Manhattan|             Seaport|      Standard rate|       VeriFone Inc.|              Cash|    Manhattan-Manhattan|\n",
            "|              1|          1.1|                 N|        7.5|  0.5|    0.5|       0.0|         0.0|                  0.3|         8.8|                NULL|      2019-01-07|       2019-01-07|2019|    1|          Monday|2019-Monday|    2019-1|  22|  2019-22|   Manhattan| East Village|    Manhattan|Two Bridges/Sewar...|      Standard rate| Creative Mobile ...|              Cash|    Manhattan-Manhattan|\n",
            "|              2|         0.53|                 N|        5.0|  0.0|    0.5|      1.16|         0.0|                  0.3|        6.96|                NULL|      2019-01-13|       2019-01-13|2019|    1|          Sunday|2019-Sunday|    2019-1|  17|  2019-17|   Manhattan| East Village|    Manhattan|            Gramercy|      Standard rate|       VeriFone Inc.|       Credit card|    Manhattan-Manhattan|\n",
            "+---------------+-------------+------------------+-----------+-----+-------+----------+------------+---------------------+------------+--------------------+----------------+-----------------+----+-----+----------------+-----------+----------+----+---------+------------+-------------+-------------+--------------------+-------------------+--------------------+------------------+-----------------------+\n",
            "only showing top 3 rows\n",
            "\n"
          ]
        }
      ],
      "source": [
        "processed_df.show(3)"
      ]
    },
    {
      "cell_type": "markdown",
      "metadata": {
        "id": "ra9Kq1OVs9MH"
      },
      "source": [
        "### Convert to RDD"
      ]
    },
    {
      "cell_type": "code",
      "execution_count": 11,
      "metadata": {
        "id": "hMl9GR1NsDR9"
      },
      "outputs": [],
      "source": [
        "Pick_Up_Town = processed_df.select('Pick_Up_Town')\n",
        "Drop_Off_Town = processed_df.select('Drop_Off_Town')\n",
        "RateCodeDescription =  processed_df.select('RateCodeDescription')\n",
        "VendorDescription =  processed_df.select('VendorDescription')\n",
        "PaymentDescription = processed_df.select('PaymentDescription')\n",
        "store_and_fwd_flag = processed_df.select('store_and_fwd_flag')\n",
        "\n",
        "Source_Destination = processed_df.select('source_destination_town')\n",
        "year_week = processed_df.select('year-week')\n",
        "year_month = processed_df.select('year-month')\n",
        "year_hour = processed_df.select('year-hour')"
      ]
    },
    {
      "cell_type": "markdown",
      "metadata": {
        "id": "pt29BsmpB4rS"
      },
      "source": []
    },
    {
      "cell_type": "markdown",
      "metadata": {
        "id": "tz4w7QBYtDgH"
      },
      "source": [
        "## Mapper"
      ]
    },
    {
      "cell_type": "code",
      "execution_count": 36,
      "metadata": {
        "id": "EPDaBaoopyrD"
      },
      "outputs": [],
      "source": [
        "RateCodeDescription_mapper = RateCodeDescription.rdd.map(lambda x: (x,1))\n",
        "VendorDescription_mapper = VendorDescription.rdd.map(lambda x: (x,1))\n",
        "PaymentDescription_mapper = PaymentDescription.rdd.map(lambda x: (x,1))\n",
        "store_and_fwd_flag_mapper = store_and_fwd_flag.rdd.map(lambda x: (x,1))\n",
        "Source_Destination_mapper = Source_Destination.rdd.map(lambda x: (x,1))"
      ]
    },
    {
      "cell_type": "code",
      "execution_count": 14,
      "metadata": {
        "id": "oPzHowVN1O9k"
      },
      "outputs": [],
      "source": [
        "year_week_mapper = year_week.rdd.map(lambda x: (x,1)).reduceByKey(lambda x,y : x+y)\n",
        "year_month_mapper = year_month.rdd.map(lambda x: (x,1)).reduceByKey(lambda x,y : x+y)\n",
        "year_hour_mapper = year_hour.rdd.map(lambda x: (x,1)).reduceByKey(lambda x,y : x+y)"
      ]
    },
    {
      "cell_type": "markdown",
      "metadata": {
        "id": "vfWgI7KitTjC"
      },
      "source": [
        "## Reducer"
      ]
    },
    {
      "cell_type": "code",
      "execution_count": 15,
      "metadata": {
        "id": "wgjovJQDlJ6G"
      },
      "outputs": [],
      "source": [
        "RateCodeDescription_reducer = RateCodeDescription_mapper.reduceByKey(lambda x,y : x+y)\n",
        "\n",
        "VendorDescription_reducer = VendorDescription_mapper.reduceByKey(lambda x,y : x+y)\n",
        "\n",
        "PaymentDescription_reducer = PaymentDescription_mapper.reduceByKey(lambda x,y : x+y)\n",
        "\n",
        "Source_Destination_reducer = Source_Destination_mapper.reduceByKey(lambda x,y : x+y)\n",
        "\n",
        "store_and_fwd_flag_reducer = store_and_fwd_flag_mapper.reduceByKey(lambda x,y : x+y)"
      ]
    },
    {
      "cell_type": "code",
      "execution_count": 16,
      "metadata": {
        "id": "VITSRcgcEP0P"
      },
      "outputs": [],
      "source": [
        "year_week_reducer = year_week_mapper.reduceByKey(lambda x,y : x+y)\n",
        "year_month_reducer = year_month_mapper.reduceByKey(lambda x,y : x+y)\n",
        "year_hour_reducer = year_hour_mapper.reduceByKey(lambda x,y : x+y)"
      ]
    },
    {
      "cell_type": "code",
      "execution_count": 37,
      "metadata": {
        "colab": {
          "base_uri": "https://localhost:8080/"
        },
        "id": "q_F4-m55lC6X",
        "outputId": "64973313-1d83-4221-8bf9-4a1a9ad88110"
      },
      "outputs": [
        {
          "data": {
            "text/plain": [
              "[(Row(store_and_fwd_flag='N'), 7630142), (Row(store_and_fwd_flag='Y'), 37650)]"
            ]
          },
          "execution_count": 37,
          "metadata": {},
          "output_type": "execute_result"
        }
      ],
      "source": [
        "RateCodeDescription_reducer.collect()\n",
        "\n",
        "VendorDescription_reducer.collect()\n",
        "\n",
        "PaymentDescription_reducer.collect()\n",
        "\n",
        "Source_Destination_reducer.collect()\n",
        "\n",
        "store_and_fwd_flag_reducer.collect()"
      ]
    },
    {
      "cell_type": "code",
      "execution_count": 18,
      "metadata": {
        "colab": {
          "base_uri": "https://localhost:8080/"
        },
        "id": "mrdYesmKEZIF",
        "outputId": "ec88d059-d317-42ad-84e8-448dca1c852e"
      },
      "outputs": [
        {
          "data": {
            "text/plain": [
              "[(Row(year-hour='2019-05'), 74697),\n",
              " (Row(year-hour='2019-11'), 373930),\n",
              " (Row(year-hour='2019-12'), 399329),\n",
              " (Row(year-hour='2019-13'), 402444),\n",
              " (Row(year-hour='2019-15'), 450406),\n",
              " (Row(year-hour='2019-19'), 474337),\n",
              " (Row(year-hour='2019-22'), 368428),\n",
              " (Row(year-hour='2019-04'), 61122),\n",
              " (Row(year-hour='2018-21'), 28),\n",
              " (Row(year-hour='2018-20'), 28),\n",
              " (Row(year-hour='2018-19'), 34),\n",
              " (Row(year-hour='2009-02'), 5),\n",
              " (Row(year-hour='2009-08'), 1),\n",
              " (Row(year-hour='2009-04'), 1),\n",
              " (Row(year-hour='2019-03'), 78039),\n",
              " (Row(year-hour='2019-09'), 364353),\n",
              " (Row(year-hour='2019-14'), 431096),\n",
              " (Row(year-hour='2019-16'), 418572),\n",
              " (Row(year-hour='2019-20'), 422418),\n",
              " (Row(year-hour='2019-21'), 409206),\n",
              " (Row(year-hour='2019-00'), 207619),\n",
              " (Row(year-hour='2019-02'), 109379),\n",
              " (Row(year-hour='2018-23'), 107),\n",
              " (Row(year-hour='2018-13'), 4),\n",
              " (Row(year-hour='2018-14'), 23),\n",
              " (Row(year-hour='2018-16'), 36),\n",
              " (Row(year-hour='2008-23'), 22),\n",
              " (Row(year-hour='2003-00'), 2),\n",
              " (Row(year-hour='2018-10'), 1),\n",
              " (Row(year-hour='2009-11'), 3),\n",
              " (Row(year-hour='2001-14'), 1),\n",
              " (Row(year-hour='2088-00'), 2),\n",
              " (Row(year-hour='2019-01'), 149185),\n",
              " (Row(year-hour='2019-07'), 302701),\n",
              " (Row(year-hour='2019-08'), 371771),\n",
              " (Row(year-hour='2019-17'), 466438),\n",
              " (Row(year-hour='2019-18'), 514020),\n",
              " (Row(year-hour='2019-23'), 281297),\n",
              " (Row(year-hour='2019-06'), 176741),\n",
              " (Row(year-hour='2019-10'), 359821),\n",
              " (Row(year-hour='2018-22'), 15),\n",
              " (Row(year-hour='2018-17'), 61),\n",
              " (Row(year-hour='2018-15'), 12),\n",
              " (Row(year-hour='2018-18'), 16),\n",
              " (Row(year-hour='2009-00'), 30),\n",
              " (Row(year-hour='2018-12'), 1),\n",
              " (Row(year-hour='2009-01'), 8),\n",
              " (Row(year-hour='2009-03'), 2)]"
            ]
          },
          "execution_count": 18,
          "metadata": {},
          "output_type": "execute_result"
        }
      ],
      "source": [
        "year_week_reducer.collect()\n",
        "year_month_reducer.collect()\n",
        "year_hour_reducer.collect()"
      ]
    },
    {
      "cell_type": "code",
      "execution_count": 19,
      "metadata": {
        "id": "cc3ybheMv965"
      },
      "outputs": [],
      "source": [
        "#Convert to a dataframe\n",
        "rate = RateCodeDescription_reducer.toDF([\"RateCodeDescription\",'Number'])\n",
        "\n",
        "vendor = VendorDescription_reducer.toDF([\"VendorDescription\",'Number'])\n",
        "\n",
        "payment = PaymentDescription_reducer.toDF([\"PaymentDescription\",'Number'])\n",
        "\n",
        "src_dest = Source_Destination_reducer.toDF([\"source_destination_town\",'Number'])\n",
        "\n",
        "flag = store_and_fwd_flag_reducer.toDF([\"store_and_fwd_flag\",'Number'])"
      ]
    },
    {
      "cell_type": "code",
      "execution_count": 20,
      "metadata": {
        "id": "IYoKdggJwCmM"
      },
      "outputs": [],
      "source": [
        "#SparkDataFrame to Pandas\n",
        "rate_pd = rate.toPandas()\n",
        "\n",
        "vendor_pd= vendor.toPandas()\n",
        "\n",
        "payment_pd = payment.toPandas()\n",
        "\n",
        "src_dest_pd = src_dest.toPandas()\n",
        "\n",
        "flag_pd = flag.toPandas()"
      ]
    },
    {
      "cell_type": "code",
      "execution_count": 38,
      "metadata": {
        "id": "3HNAtNjOwI24"
      },
      "outputs": [],
      "source": [
        "#sort values for visualisation\n",
        "rate_pd = rate_pd.sort_values('Number', ascending=False)\n",
        "vendor_pd = vendor_pd.sort_values('Number', ascending=False)\n",
        "payment_pd = payment_pd.sort_values('Number', ascending=False)\n",
        "src_dest_pd = src_dest_pd.sort_values('Number', ascending=False)\n",
        "flag_pd = flag_pd.sort_values('Number', ascending=False)"
      ]
    },
    {
      "cell_type": "code",
      "execution_count": 29,
      "metadata": {
        "id": "S-0uyzfpajET"
      },
      "outputs": [],
      "source": [
        "file_names = [ 'rate_pd.csv', 'vendor_pd.csv', 'payment_pd.csv', 'src_dest_pd.csv', 'flag_pd.csv']\n",
        "path = 'visuals_data_1/'"
      ]
    },
    {
      "cell_type": "code",
      "execution_count": 28,
      "metadata": {
        "colab": {
          "base_uri": "https://localhost:8080/"
        },
        "id": "KqicPL_w9Oll",
        "outputId": "f0aac16e-5ed7-4061-ba0c-a2d8e807f0d5"
      },
      "outputs": [
        {
          "data": {
            "text/plain": [
              "[None, None, None, None, None]"
            ]
          },
          "execution_count": 28,
          "metadata": {},
          "output_type": "execute_result"
        }
      ],
      "source": [
        "#write to csv, to be used for visuals\n",
        "\n",
        "dfs = [rate_pd, vendor_pd, payment_pd, src_dest_pd, flag_pd]\n",
        "\n",
        "path = 'visuals_data_1/'\n",
        "\n",
        "[df.to_csv(path+file_name, index=False) for df, file_name in zip(dfs, file_names)]\n"
      ]
    },
    {
      "cell_type": "markdown",
      "metadata": {
        "id": "wnkDE6StAcV3"
      },
      "source": [
        "# Graph Visuals - Plotly"
      ]
    },
    {
      "cell_type": "code",
      "execution_count": null,
      "metadata": {
        "id": "1azPsqjnft-a"
      },
      "outputs": [],
      "source": [
        "# Get reduced results from the folders and remove unecessary characters"
      ]
    },
    {
      "cell_type": "code",
      "execution_count": 30,
      "metadata": {
        "id": "NIn92nvN3gIp"
      },
      "outputs": [],
      "source": [
        "rate_vis= pd.read_csv(path + file_names[0])\n",
        "rate_vis['RateCodeDescription'] = rate_vis['RateCodeDescription'].str.extract(r\"'(.*?)'\")\n",
        "\n",
        "\n",
        "vendor_vis= pd.read_csv(path + file_names[1])\n",
        "vendor_vis['VendorDescription'] = vendor_vis['VendorDescription'].str.extract(r\"'(.*?)'\")\n",
        "\n",
        "\n",
        "payment_vis= pd.read_csv(path + file_names[2])\n",
        "payment_vis['PaymentDescription'] = payment_vis['PaymentDescription'].str.extract(r\"'(.*?)'\")\n",
        "\n",
        "src_dest_pd= pd.read_csv(path + file_names[3])\n",
        "src_dest_pd['source_destination_town'] = src_dest_pd['source_destination_town'].str.extract(r\"'(.*?)'\")\n",
        "\n",
        "\n",
        "flag_pd= pd.read_csv(path + file_names[4])\n",
        "flag_pd['store_and_fwd_flag'] = flag_pd['store_and_fwd_flag'].str.extract(r\"'(.*?)'\")"
      ]
    },
    {
      "cell_type": "code",
      "execution_count": 35,
      "metadata": {
        "colab": {
          "base_uri": "https://localhost:8080/",
          "height": 542
        },
        "id": "yz0K3WFqh_ck",
        "outputId": "96a48d78-e7a2-435d-be02-1ca28e9d8b38"
      },
      "outputs": [
        {
          "data": {
            "text/html": [
              "<html>\n",
              "<head><meta charset=\"utf-8\" /></head>\n",
              "<body>\n",
              "    <div>            <script src=\"https://cdnjs.cloudflare.com/ajax/libs/mathjax/2.7.5/MathJax.js?config=TeX-AMS-MML_SVG\"></script><script type=\"text/javascript\">if (window.MathJax && window.MathJax.Hub && window.MathJax.Hub.Config) {window.MathJax.Hub.Config({SVG: {font: \"STIX-Web\"}});}</script>                <script type=\"text/javascript\">window.PlotlyConfig = {MathJaxConfig: 'local'};</script>\n",
              "        <script charset=\"utf-8\" src=\"https://cdn.plot.ly/plotly-2.24.1.min.js\"></script>                <div id=\"612c62e5-bb00-4a9b-8f94-923956511fbc\" class=\"plotly-graph-div\" style=\"height:525px; width:100%;\"></div>            <script type=\"text/javascript\">                                    window.PLOTLYENV=window.PLOTLYENV || {};                                    if (document.getElementById(\"612c62e5-bb00-4a9b-8f94-923956511fbc\")) {                    Plotly.newPlot(                        \"612c62e5-bb00-4a9b-8f94-923956511fbc\",                        [{\"domain\":{\"x\":[0.0,1.0],\"y\":[0.0,1.0]},\"hole\":0.5,\"hovertemplate\":\"store_and_fwd_flag=%{label}\\u003cbr\\u003eNumber=%{value}\\u003cextra\\u003e\\u003c\\u002fextra\\u003e\",\"labels\":[\"N\",\"Y\"],\"legendgroup\":\"\",\"name\":\"\",\"showlegend\":true,\"values\":[7630142,37650],\"type\":\"pie\"}],                        {\"template\":{\"data\":{\"histogram2dcontour\":[{\"type\":\"histogram2dcontour\",\"colorbar\":{\"outlinewidth\":0,\"ticks\":\"\"},\"colorscale\":[[0.0,\"#0d0887\"],[0.1111111111111111,\"#46039f\"],[0.2222222222222222,\"#7201a8\"],[0.3333333333333333,\"#9c179e\"],[0.4444444444444444,\"#bd3786\"],[0.5555555555555556,\"#d8576b\"],[0.6666666666666666,\"#ed7953\"],[0.7777777777777778,\"#fb9f3a\"],[0.8888888888888888,\"#fdca26\"],[1.0,\"#f0f921\"]]}],\"choropleth\":[{\"type\":\"choropleth\",\"colorbar\":{\"outlinewidth\":0,\"ticks\":\"\"}}],\"histogram2d\":[{\"type\":\"histogram2d\",\"colorbar\":{\"outlinewidth\":0,\"ticks\":\"\"},\"colorscale\":[[0.0,\"#0d0887\"],[0.1111111111111111,\"#46039f\"],[0.2222222222222222,\"#7201a8\"],[0.3333333333333333,\"#9c179e\"],[0.4444444444444444,\"#bd3786\"],[0.5555555555555556,\"#d8576b\"],[0.6666666666666666,\"#ed7953\"],[0.7777777777777778,\"#fb9f3a\"],[0.8888888888888888,\"#fdca26\"],[1.0,\"#f0f921\"]]}],\"heatmap\":[{\"type\":\"heatmap\",\"colorbar\":{\"outlinewidth\":0,\"ticks\":\"\"},\"colorscale\":[[0.0,\"#0d0887\"],[0.1111111111111111,\"#46039f\"],[0.2222222222222222,\"#7201a8\"],[0.3333333333333333,\"#9c179e\"],[0.4444444444444444,\"#bd3786\"],[0.5555555555555556,\"#d8576b\"],[0.6666666666666666,\"#ed7953\"],[0.7777777777777778,\"#fb9f3a\"],[0.8888888888888888,\"#fdca26\"],[1.0,\"#f0f921\"]]}],\"heatmapgl\":[{\"type\":\"heatmapgl\",\"colorbar\":{\"outlinewidth\":0,\"ticks\":\"\"},\"colorscale\":[[0.0,\"#0d0887\"],[0.1111111111111111,\"#46039f\"],[0.2222222222222222,\"#7201a8\"],[0.3333333333333333,\"#9c179e\"],[0.4444444444444444,\"#bd3786\"],[0.5555555555555556,\"#d8576b\"],[0.6666666666666666,\"#ed7953\"],[0.7777777777777778,\"#fb9f3a\"],[0.8888888888888888,\"#fdca26\"],[1.0,\"#f0f921\"]]}],\"contourcarpet\":[{\"type\":\"contourcarpet\",\"colorbar\":{\"outlinewidth\":0,\"ticks\":\"\"}}],\"contour\":[{\"type\":\"contour\",\"colorbar\":{\"outlinewidth\":0,\"ticks\":\"\"},\"colorscale\":[[0.0,\"#0d0887\"],[0.1111111111111111,\"#46039f\"],[0.2222222222222222,\"#7201a8\"],[0.3333333333333333,\"#9c179e\"],[0.4444444444444444,\"#bd3786\"],[0.5555555555555556,\"#d8576b\"],[0.6666666666666666,\"#ed7953\"],[0.7777777777777778,\"#fb9f3a\"],[0.8888888888888888,\"#fdca26\"],[1.0,\"#f0f921\"]]}],\"surface\":[{\"type\":\"surface\",\"colorbar\":{\"outlinewidth\":0,\"ticks\":\"\"},\"colorscale\":[[0.0,\"#0d0887\"],[0.1111111111111111,\"#46039f\"],[0.2222222222222222,\"#7201a8\"],[0.3333333333333333,\"#9c179e\"],[0.4444444444444444,\"#bd3786\"],[0.5555555555555556,\"#d8576b\"],[0.6666666666666666,\"#ed7953\"],[0.7777777777777778,\"#fb9f3a\"],[0.8888888888888888,\"#fdca26\"],[1.0,\"#f0f921\"]]}],\"mesh3d\":[{\"type\":\"mesh3d\",\"colorbar\":{\"outlinewidth\":0,\"ticks\":\"\"}}],\"scatter\":[{\"fillpattern\":{\"fillmode\":\"overlay\",\"size\":10,\"solidity\":0.2},\"type\":\"scatter\"}],\"parcoords\":[{\"type\":\"parcoords\",\"line\":{\"colorbar\":{\"outlinewidth\":0,\"ticks\":\"\"}}}],\"scatterpolargl\":[{\"type\":\"scatterpolargl\",\"marker\":{\"colorbar\":{\"outlinewidth\":0,\"ticks\":\"\"}}}],\"bar\":[{\"error_x\":{\"color\":\"#2a3f5f\"},\"error_y\":{\"color\":\"#2a3f5f\"},\"marker\":{\"line\":{\"color\":\"#E5ECF6\",\"width\":0.5},\"pattern\":{\"fillmode\":\"overlay\",\"size\":10,\"solidity\":0.2}},\"type\":\"bar\"}],\"scattergeo\":[{\"type\":\"scattergeo\",\"marker\":{\"colorbar\":{\"outlinewidth\":0,\"ticks\":\"\"}}}],\"scatterpolar\":[{\"type\":\"scatterpolar\",\"marker\":{\"colorbar\":{\"outlinewidth\":0,\"ticks\":\"\"}}}],\"histogram\":[{\"marker\":{\"pattern\":{\"fillmode\":\"overlay\",\"size\":10,\"solidity\":0.2}},\"type\":\"histogram\"}],\"scattergl\":[{\"type\":\"scattergl\",\"marker\":{\"colorbar\":{\"outlinewidth\":0,\"ticks\":\"\"}}}],\"scatter3d\":[{\"type\":\"scatter3d\",\"line\":{\"colorbar\":{\"outlinewidth\":0,\"ticks\":\"\"}},\"marker\":{\"colorbar\":{\"outlinewidth\":0,\"ticks\":\"\"}}}],\"scattermapbox\":[{\"type\":\"scattermapbox\",\"marker\":{\"colorbar\":{\"outlinewidth\":0,\"ticks\":\"\"}}}],\"scatterternary\":[{\"type\":\"scatterternary\",\"marker\":{\"colorbar\":{\"outlinewidth\":0,\"ticks\":\"\"}}}],\"scattercarpet\":[{\"type\":\"scattercarpet\",\"marker\":{\"colorbar\":{\"outlinewidth\":0,\"ticks\":\"\"}}}],\"carpet\":[{\"aaxis\":{\"endlinecolor\":\"#2a3f5f\",\"gridcolor\":\"white\",\"linecolor\":\"white\",\"minorgridcolor\":\"white\",\"startlinecolor\":\"#2a3f5f\"},\"baxis\":{\"endlinecolor\":\"#2a3f5f\",\"gridcolor\":\"white\",\"linecolor\":\"white\",\"minorgridcolor\":\"white\",\"startlinecolor\":\"#2a3f5f\"},\"type\":\"carpet\"}],\"table\":[{\"cells\":{\"fill\":{\"color\":\"#EBF0F8\"},\"line\":{\"color\":\"white\"}},\"header\":{\"fill\":{\"color\":\"#C8D4E3\"},\"line\":{\"color\":\"white\"}},\"type\":\"table\"}],\"barpolar\":[{\"marker\":{\"line\":{\"color\":\"#E5ECF6\",\"width\":0.5},\"pattern\":{\"fillmode\":\"overlay\",\"size\":10,\"solidity\":0.2}},\"type\":\"barpolar\"}],\"pie\":[{\"automargin\":true,\"type\":\"pie\"}]},\"layout\":{\"autotypenumbers\":\"strict\",\"colorway\":[\"#636efa\",\"#EF553B\",\"#00cc96\",\"#ab63fa\",\"#FFA15A\",\"#19d3f3\",\"#FF6692\",\"#B6E880\",\"#FF97FF\",\"#FECB52\"],\"font\":{\"color\":\"#2a3f5f\"},\"hovermode\":\"closest\",\"hoverlabel\":{\"align\":\"left\"},\"paper_bgcolor\":\"white\",\"plot_bgcolor\":\"#E5ECF6\",\"polar\":{\"bgcolor\":\"#E5ECF6\",\"angularaxis\":{\"gridcolor\":\"white\",\"linecolor\":\"white\",\"ticks\":\"\"},\"radialaxis\":{\"gridcolor\":\"white\",\"linecolor\":\"white\",\"ticks\":\"\"}},\"ternary\":{\"bgcolor\":\"#E5ECF6\",\"aaxis\":{\"gridcolor\":\"white\",\"linecolor\":\"white\",\"ticks\":\"\"},\"baxis\":{\"gridcolor\":\"white\",\"linecolor\":\"white\",\"ticks\":\"\"},\"caxis\":{\"gridcolor\":\"white\",\"linecolor\":\"white\",\"ticks\":\"\"}},\"coloraxis\":{\"colorbar\":{\"outlinewidth\":0,\"ticks\":\"\"}},\"colorscale\":{\"sequential\":[[0.0,\"#0d0887\"],[0.1111111111111111,\"#46039f\"],[0.2222222222222222,\"#7201a8\"],[0.3333333333333333,\"#9c179e\"],[0.4444444444444444,\"#bd3786\"],[0.5555555555555556,\"#d8576b\"],[0.6666666666666666,\"#ed7953\"],[0.7777777777777778,\"#fb9f3a\"],[0.8888888888888888,\"#fdca26\"],[1.0,\"#f0f921\"]],\"sequentialminus\":[[0.0,\"#0d0887\"],[0.1111111111111111,\"#46039f\"],[0.2222222222222222,\"#7201a8\"],[0.3333333333333333,\"#9c179e\"],[0.4444444444444444,\"#bd3786\"],[0.5555555555555556,\"#d8576b\"],[0.6666666666666666,\"#ed7953\"],[0.7777777777777778,\"#fb9f3a\"],[0.8888888888888888,\"#fdca26\"],[1.0,\"#f0f921\"]],\"diverging\":[[0,\"#8e0152\"],[0.1,\"#c51b7d\"],[0.2,\"#de77ae\"],[0.3,\"#f1b6da\"],[0.4,\"#fde0ef\"],[0.5,\"#f7f7f7\"],[0.6,\"#e6f5d0\"],[0.7,\"#b8e186\"],[0.8,\"#7fbc41\"],[0.9,\"#4d9221\"],[1,\"#276419\"]]},\"xaxis\":{\"gridcolor\":\"white\",\"linecolor\":\"white\",\"ticks\":\"\",\"title\":{\"standoff\":15},\"zerolinecolor\":\"white\",\"automargin\":true,\"zerolinewidth\":2},\"yaxis\":{\"gridcolor\":\"white\",\"linecolor\":\"white\",\"ticks\":\"\",\"title\":{\"standoff\":15},\"zerolinecolor\":\"white\",\"automargin\":true,\"zerolinewidth\":2},\"scene\":{\"xaxis\":{\"backgroundcolor\":\"#E5ECF6\",\"gridcolor\":\"white\",\"linecolor\":\"white\",\"showbackground\":true,\"ticks\":\"\",\"zerolinecolor\":\"white\",\"gridwidth\":2},\"yaxis\":{\"backgroundcolor\":\"#E5ECF6\",\"gridcolor\":\"white\",\"linecolor\":\"white\",\"showbackground\":true,\"ticks\":\"\",\"zerolinecolor\":\"white\",\"gridwidth\":2},\"zaxis\":{\"backgroundcolor\":\"#E5ECF6\",\"gridcolor\":\"white\",\"linecolor\":\"white\",\"showbackground\":true,\"ticks\":\"\",\"zerolinecolor\":\"white\",\"gridwidth\":2}},\"shapedefaults\":{\"line\":{\"color\":\"#2a3f5f\"}},\"annotationdefaults\":{\"arrowcolor\":\"#2a3f5f\",\"arrowhead\":0,\"arrowwidth\":1},\"geo\":{\"bgcolor\":\"white\",\"landcolor\":\"#E5ECF6\",\"subunitcolor\":\"white\",\"showland\":true,\"showlakes\":true,\"lakecolor\":\"white\"},\"title\":{\"x\":0.05},\"mapbox\":{\"style\":\"light\"}}},\"legend\":{\"tracegroupgap\":0},\"title\":{\"text\":\"In-vehicle memory before sending to Vendor (Store & Forward Flag) \"}},                        {\"responsive\": true}                    ).then(function(){\n",
              "                            \n",
              "var gd = document.getElementById('612c62e5-bb00-4a9b-8f94-923956511fbc');\n",
              "var x = new MutationObserver(function (mutations, observer) {{\n",
              "        var display = window.getComputedStyle(gd).display;\n",
              "        if (!display || display === 'none') {{\n",
              "            console.log([gd, 'removed!']);\n",
              "            Plotly.purge(gd);\n",
              "            observer.disconnect();\n",
              "        }}\n",
              "}});\n",
              "\n",
              "// Listen for the removal of the full notebook cells\n",
              "var notebookContainer = gd.closest('#notebook-container');\n",
              "if (notebookContainer) {{\n",
              "    x.observe(notebookContainer, {childList: true});\n",
              "}}\n",
              "\n",
              "// Listen for the clearing of the current output cell\n",
              "var outputEl = gd.closest('.output');\n",
              "if (outputEl) {{\n",
              "    x.observe(outputEl, {childList: true});\n",
              "}}\n",
              "\n",
              "                        })                };                            </script>        </div>\n",
              "</body>\n",
              "</html>"
            ]
          },
          "metadata": {},
          "output_type": "display_data"
        }
      ],
      "source": [
        "# Visualization 2: Pie Chart\n",
        "fig2 = px.pie(flag_pd, names='store_and_fwd_flag', values='Number', title='In-vehicle memory before sending to Vendor (Store & Forward Flag) ', hole=.5)\n",
        "fig2.show()\n",
        "\n",
        "\n"
      ]
    },
    {
      "cell_type": "code",
      "execution_count": 34,
      "metadata": {
        "colab": {
          "base_uri": "https://localhost:8080/",
          "height": 542
        },
        "id": "SNrlvrVB8UxT",
        "outputId": "42735fc6-da75-4843-e5f1-f3edb7229f0b"
      },
      "outputs": [
        {
          "data": {
            "text/html": [
              "<html>\n",
              "<head><meta charset=\"utf-8\" /></head>\n",
              "<body>\n",
              "    <div>            <script src=\"https://cdnjs.cloudflare.com/ajax/libs/mathjax/2.7.5/MathJax.js?config=TeX-AMS-MML_SVG\"></script><script type=\"text/javascript\">if (window.MathJax && window.MathJax.Hub && window.MathJax.Hub.Config) {window.MathJax.Hub.Config({SVG: {font: \"STIX-Web\"}});}</script>                <script type=\"text/javascript\">window.PlotlyConfig = {MathJaxConfig: 'local'};</script>\n",
              "        <script charset=\"utf-8\" src=\"https://cdn.plot.ly/plotly-2.24.1.min.js\"></script>                <div id=\"89ce53a8-661a-4b51-9b26-b1ef35b2589c\" class=\"plotly-graph-div\" style=\"height:525px; width:100%;\"></div>            <script type=\"text/javascript\">                                    window.PLOTLYENV=window.PLOTLYENV || {};                                    if (document.getElementById(\"89ce53a8-661a-4b51-9b26-b1ef35b2589c\")) {                    Plotly.newPlot(                        \"89ce53a8-661a-4b51-9b26-b1ef35b2589c\",                        [{\"x\":[\"Standard rate\",\"JFK\",\"Negotiated fare\",\"Newark\",\"Nassau or Westchester\",null,\"Group ride\"],\"y\":[7430139,166090,54569,11801,4895,252,46],\"type\":\"bar\",\"xaxis\":\"x\",\"yaxis\":\"y\"},{\"x\":[\"VeriFone Inc.\",\" Creative Mobile Technologies, LLC\",null],\"y\":[4652191,2938778,76823],\"type\":\"bar\",\"xaxis\":\"x3\",\"yaxis\":\"y3\"},{\"x\":[\"Credit card\",\"Cash\",\"No charge\",\"Dispute\"],\"y\":[5486027,2137415,33186,11164],\"type\":\"bar\",\"xaxis\":\"x2\",\"yaxis\":\"y2\"}],                        {\"template\":{\"data\":{\"histogram2dcontour\":[{\"type\":\"histogram2dcontour\",\"colorbar\":{\"outlinewidth\":0,\"ticks\":\"\"},\"colorscale\":[[0.0,\"#0d0887\"],[0.1111111111111111,\"#46039f\"],[0.2222222222222222,\"#7201a8\"],[0.3333333333333333,\"#9c179e\"],[0.4444444444444444,\"#bd3786\"],[0.5555555555555556,\"#d8576b\"],[0.6666666666666666,\"#ed7953\"],[0.7777777777777778,\"#fb9f3a\"],[0.8888888888888888,\"#fdca26\"],[1.0,\"#f0f921\"]]}],\"choropleth\":[{\"type\":\"choropleth\",\"colorbar\":{\"outlinewidth\":0,\"ticks\":\"\"}}],\"histogram2d\":[{\"type\":\"histogram2d\",\"colorbar\":{\"outlinewidth\":0,\"ticks\":\"\"},\"colorscale\":[[0.0,\"#0d0887\"],[0.1111111111111111,\"#46039f\"],[0.2222222222222222,\"#7201a8\"],[0.3333333333333333,\"#9c179e\"],[0.4444444444444444,\"#bd3786\"],[0.5555555555555556,\"#d8576b\"],[0.6666666666666666,\"#ed7953\"],[0.7777777777777778,\"#fb9f3a\"],[0.8888888888888888,\"#fdca26\"],[1.0,\"#f0f921\"]]}],\"heatmap\":[{\"type\":\"heatmap\",\"colorbar\":{\"outlinewidth\":0,\"ticks\":\"\"},\"colorscale\":[[0.0,\"#0d0887\"],[0.1111111111111111,\"#46039f\"],[0.2222222222222222,\"#7201a8\"],[0.3333333333333333,\"#9c179e\"],[0.4444444444444444,\"#bd3786\"],[0.5555555555555556,\"#d8576b\"],[0.6666666666666666,\"#ed7953\"],[0.7777777777777778,\"#fb9f3a\"],[0.8888888888888888,\"#fdca26\"],[1.0,\"#f0f921\"]]}],\"heatmapgl\":[{\"type\":\"heatmapgl\",\"colorbar\":{\"outlinewidth\":0,\"ticks\":\"\"},\"colorscale\":[[0.0,\"#0d0887\"],[0.1111111111111111,\"#46039f\"],[0.2222222222222222,\"#7201a8\"],[0.3333333333333333,\"#9c179e\"],[0.4444444444444444,\"#bd3786\"],[0.5555555555555556,\"#d8576b\"],[0.6666666666666666,\"#ed7953\"],[0.7777777777777778,\"#fb9f3a\"],[0.8888888888888888,\"#fdca26\"],[1.0,\"#f0f921\"]]}],\"contourcarpet\":[{\"type\":\"contourcarpet\",\"colorbar\":{\"outlinewidth\":0,\"ticks\":\"\"}}],\"contour\":[{\"type\":\"contour\",\"colorbar\":{\"outlinewidth\":0,\"ticks\":\"\"},\"colorscale\":[[0.0,\"#0d0887\"],[0.1111111111111111,\"#46039f\"],[0.2222222222222222,\"#7201a8\"],[0.3333333333333333,\"#9c179e\"],[0.4444444444444444,\"#bd3786\"],[0.5555555555555556,\"#d8576b\"],[0.6666666666666666,\"#ed7953\"],[0.7777777777777778,\"#fb9f3a\"],[0.8888888888888888,\"#fdca26\"],[1.0,\"#f0f921\"]]}],\"surface\":[{\"type\":\"surface\",\"colorbar\":{\"outlinewidth\":0,\"ticks\":\"\"},\"colorscale\":[[0.0,\"#0d0887\"],[0.1111111111111111,\"#46039f\"],[0.2222222222222222,\"#7201a8\"],[0.3333333333333333,\"#9c179e\"],[0.4444444444444444,\"#bd3786\"],[0.5555555555555556,\"#d8576b\"],[0.6666666666666666,\"#ed7953\"],[0.7777777777777778,\"#fb9f3a\"],[0.8888888888888888,\"#fdca26\"],[1.0,\"#f0f921\"]]}],\"mesh3d\":[{\"type\":\"mesh3d\",\"colorbar\":{\"outlinewidth\":0,\"ticks\":\"\"}}],\"scatter\":[{\"fillpattern\":{\"fillmode\":\"overlay\",\"size\":10,\"solidity\":0.2},\"type\":\"scatter\"}],\"parcoords\":[{\"type\":\"parcoords\",\"line\":{\"colorbar\":{\"outlinewidth\":0,\"ticks\":\"\"}}}],\"scatterpolargl\":[{\"type\":\"scatterpolargl\",\"marker\":{\"colorbar\":{\"outlinewidth\":0,\"ticks\":\"\"}}}],\"bar\":[{\"error_x\":{\"color\":\"#2a3f5f\"},\"error_y\":{\"color\":\"#2a3f5f\"},\"marker\":{\"line\":{\"color\":\"#E5ECF6\",\"width\":0.5},\"pattern\":{\"fillmode\":\"overlay\",\"size\":10,\"solidity\":0.2}},\"type\":\"bar\"}],\"scattergeo\":[{\"type\":\"scattergeo\",\"marker\":{\"colorbar\":{\"outlinewidth\":0,\"ticks\":\"\"}}}],\"scatterpolar\":[{\"type\":\"scatterpolar\",\"marker\":{\"colorbar\":{\"outlinewidth\":0,\"ticks\":\"\"}}}],\"histogram\":[{\"marker\":{\"pattern\":{\"fillmode\":\"overlay\",\"size\":10,\"solidity\":0.2}},\"type\":\"histogram\"}],\"scattergl\":[{\"type\":\"scattergl\",\"marker\":{\"colorbar\":{\"outlinewidth\":0,\"ticks\":\"\"}}}],\"scatter3d\":[{\"type\":\"scatter3d\",\"line\":{\"colorbar\":{\"outlinewidth\":0,\"ticks\":\"\"}},\"marker\":{\"colorbar\":{\"outlinewidth\":0,\"ticks\":\"\"}}}],\"scattermapbox\":[{\"type\":\"scattermapbox\",\"marker\":{\"colorbar\":{\"outlinewidth\":0,\"ticks\":\"\"}}}],\"scatterternary\":[{\"type\":\"scatterternary\",\"marker\":{\"colorbar\":{\"outlinewidth\":0,\"ticks\":\"\"}}}],\"scattercarpet\":[{\"type\":\"scattercarpet\",\"marker\":{\"colorbar\":{\"outlinewidth\":0,\"ticks\":\"\"}}}],\"carpet\":[{\"aaxis\":{\"endlinecolor\":\"#2a3f5f\",\"gridcolor\":\"white\",\"linecolor\":\"white\",\"minorgridcolor\":\"white\",\"startlinecolor\":\"#2a3f5f\"},\"baxis\":{\"endlinecolor\":\"#2a3f5f\",\"gridcolor\":\"white\",\"linecolor\":\"white\",\"minorgridcolor\":\"white\",\"startlinecolor\":\"#2a3f5f\"},\"type\":\"carpet\"}],\"table\":[{\"cells\":{\"fill\":{\"color\":\"#EBF0F8\"},\"line\":{\"color\":\"white\"}},\"header\":{\"fill\":{\"color\":\"#C8D4E3\"},\"line\":{\"color\":\"white\"}},\"type\":\"table\"}],\"barpolar\":[{\"marker\":{\"line\":{\"color\":\"#E5ECF6\",\"width\":0.5},\"pattern\":{\"fillmode\":\"overlay\",\"size\":10,\"solidity\":0.2}},\"type\":\"barpolar\"}],\"pie\":[{\"automargin\":true,\"type\":\"pie\"}]},\"layout\":{\"autotypenumbers\":\"strict\",\"colorway\":[\"#636efa\",\"#EF553B\",\"#00cc96\",\"#ab63fa\",\"#FFA15A\",\"#19d3f3\",\"#FF6692\",\"#B6E880\",\"#FF97FF\",\"#FECB52\"],\"font\":{\"color\":\"#2a3f5f\"},\"hovermode\":\"closest\",\"hoverlabel\":{\"align\":\"left\"},\"paper_bgcolor\":\"white\",\"plot_bgcolor\":\"#E5ECF6\",\"polar\":{\"bgcolor\":\"#E5ECF6\",\"angularaxis\":{\"gridcolor\":\"white\",\"linecolor\":\"white\",\"ticks\":\"\"},\"radialaxis\":{\"gridcolor\":\"white\",\"linecolor\":\"white\",\"ticks\":\"\"}},\"ternary\":{\"bgcolor\":\"#E5ECF6\",\"aaxis\":{\"gridcolor\":\"white\",\"linecolor\":\"white\",\"ticks\":\"\"},\"baxis\":{\"gridcolor\":\"white\",\"linecolor\":\"white\",\"ticks\":\"\"},\"caxis\":{\"gridcolor\":\"white\",\"linecolor\":\"white\",\"ticks\":\"\"}},\"coloraxis\":{\"colorbar\":{\"outlinewidth\":0,\"ticks\":\"\"}},\"colorscale\":{\"sequential\":[[0.0,\"#0d0887\"],[0.1111111111111111,\"#46039f\"],[0.2222222222222222,\"#7201a8\"],[0.3333333333333333,\"#9c179e\"],[0.4444444444444444,\"#bd3786\"],[0.5555555555555556,\"#d8576b\"],[0.6666666666666666,\"#ed7953\"],[0.7777777777777778,\"#fb9f3a\"],[0.8888888888888888,\"#fdca26\"],[1.0,\"#f0f921\"]],\"sequentialminus\":[[0.0,\"#0d0887\"],[0.1111111111111111,\"#46039f\"],[0.2222222222222222,\"#7201a8\"],[0.3333333333333333,\"#9c179e\"],[0.4444444444444444,\"#bd3786\"],[0.5555555555555556,\"#d8576b\"],[0.6666666666666666,\"#ed7953\"],[0.7777777777777778,\"#fb9f3a\"],[0.8888888888888888,\"#fdca26\"],[1.0,\"#f0f921\"]],\"diverging\":[[0,\"#8e0152\"],[0.1,\"#c51b7d\"],[0.2,\"#de77ae\"],[0.3,\"#f1b6da\"],[0.4,\"#fde0ef\"],[0.5,\"#f7f7f7\"],[0.6,\"#e6f5d0\"],[0.7,\"#b8e186\"],[0.8,\"#7fbc41\"],[0.9,\"#4d9221\"],[1,\"#276419\"]]},\"xaxis\":{\"gridcolor\":\"white\",\"linecolor\":\"white\",\"ticks\":\"\",\"title\":{\"standoff\":15},\"zerolinecolor\":\"white\",\"automargin\":true,\"zerolinewidth\":2},\"yaxis\":{\"gridcolor\":\"white\",\"linecolor\":\"white\",\"ticks\":\"\",\"title\":{\"standoff\":15},\"zerolinecolor\":\"white\",\"automargin\":true,\"zerolinewidth\":2},\"scene\":{\"xaxis\":{\"backgroundcolor\":\"#E5ECF6\",\"gridcolor\":\"white\",\"linecolor\":\"white\",\"showbackground\":true,\"ticks\":\"\",\"zerolinecolor\":\"white\",\"gridwidth\":2},\"yaxis\":{\"backgroundcolor\":\"#E5ECF6\",\"gridcolor\":\"white\",\"linecolor\":\"white\",\"showbackground\":true,\"ticks\":\"\",\"zerolinecolor\":\"white\",\"gridwidth\":2},\"zaxis\":{\"backgroundcolor\":\"#E5ECF6\",\"gridcolor\":\"white\",\"linecolor\":\"white\",\"showbackground\":true,\"ticks\":\"\",\"zerolinecolor\":\"white\",\"gridwidth\":2}},\"shapedefaults\":{\"line\":{\"color\":\"#2a3f5f\"}},\"annotationdefaults\":{\"arrowcolor\":\"#2a3f5f\",\"arrowhead\":0,\"arrowwidth\":1},\"geo\":{\"bgcolor\":\"white\",\"landcolor\":\"#E5ECF6\",\"subunitcolor\":\"white\",\"showland\":true,\"showlakes\":true,\"lakecolor\":\"white\"},\"title\":{\"x\":0.05},\"mapbox\":{\"style\":\"light\"}}},\"xaxis\":{\"anchor\":\"y\",\"domain\":[0.0,0.45]},\"yaxis\":{\"anchor\":\"x\",\"domain\":[0.625,1.0]},\"xaxis2\":{\"anchor\":\"y2\",\"domain\":[0.55,1.0]},\"yaxis2\":{\"anchor\":\"x2\",\"domain\":[0.625,1.0]},\"xaxis3\":{\"anchor\":\"y3\",\"domain\":[0.0,0.45]},\"yaxis3\":{\"anchor\":\"x3\",\"domain\":[0.0,0.375]},\"xaxis4\":{\"anchor\":\"y4\",\"domain\":[0.55,1.0]},\"yaxis4\":{\"anchor\":\"x4\",\"domain\":[0.0,0.375]},\"annotations\":[{\"font\":{\"size\":16},\"showarrow\":false,\"text\":\"Rate Type\",\"x\":0.225,\"xanchor\":\"center\",\"xref\":\"paper\",\"y\":1.0,\"yanchor\":\"bottom\",\"yref\":\"paper\"},{\"font\":{\"size\":16},\"showarrow\":false,\"text\":\"Payment Types Count\",\"x\":0.775,\"xanchor\":\"center\",\"xref\":\"paper\",\"y\":1.0,\"yanchor\":\"bottom\",\"yref\":\"paper\"},{\"font\":{\"size\":16},\"showarrow\":false,\"text\":\"VendorTypes Count\",\"x\":0.225,\"xanchor\":\"center\",\"xref\":\"paper\",\"y\":0.375,\"yanchor\":\"bottom\",\"yref\":\"paper\"},{\"font\":{\"size\":16},\"showarrow\":false,\"text\":\"PaymentTypes Count\",\"x\":0.775,\"xanchor\":\"center\",\"xref\":\"paper\",\"y\":0.375,\"yanchor\":\"bottom\",\"yref\":\"paper\"}],\"title\":{\"text\":\"Subplots of Data\"},\"showlegend\":false},                        {\"responsive\": true}                    ).then(function(){\n",
              "                            \n",
              "var gd = document.getElementById('89ce53a8-661a-4b51-9b26-b1ef35b2589c');\n",
              "var x = new MutationObserver(function (mutations, observer) {{\n",
              "        var display = window.getComputedStyle(gd).display;\n",
              "        if (!display || display === 'none') {{\n",
              "            console.log([gd, 'removed!']);\n",
              "            Plotly.purge(gd);\n",
              "            observer.disconnect();\n",
              "        }}\n",
              "}});\n",
              "\n",
              "// Listen for the removal of the full notebook cells\n",
              "var notebookContainer = gd.closest('#notebook-container');\n",
              "if (notebookContainer) {{\n",
              "    x.observe(notebookContainer, {childList: true});\n",
              "}}\n",
              "\n",
              "// Listen for the clearing of the current output cell\n",
              "var outputEl = gd.closest('.output');\n",
              "if (outputEl) {{\n",
              "    x.observe(outputEl, {childList: true});\n",
              "}}\n",
              "\n",
              "                        })                };                            </script>        </div>\n",
              "</body>\n",
              "</html>"
            ]
          },
          "metadata": {},
          "output_type": "display_data"
        }
      ],
      "source": [
        "import plotly.graph_objects as go\n",
        "from plotly.subplots import make_subplots\n",
        "\n",
        "# Create subplots with 2 rows and 2 columns\n",
        "fig = make_subplots(rows=2, cols=2, subplot_titles=('Rate Type', 'Payment Types Count', 'VendorTypes Count', 'PaymentTypes Count'))\n",
        "\n",
        "# Add bar plots to the subplots\n",
        "fig.add_trace(go.Bar(x=rate_vis['RateCodeDescription'], y=rate_vis['Number']), row=1, col=1)\n",
        "fig.add_trace(go.Bar(x=vendor_vis['VendorDescription'], y=vendor_vis['Number']), row=2, col=1)\n",
        "fig.add_trace(go.Bar(x=payment_vis['PaymentDescription'], y=payment_vis['Number']), row=1, col=2)\n",
        "\n",
        "# Update the layout of the subplots\n",
        "fig.update_layout(title='Subplots of Data', showlegend=False)  # You can customize the layout as needed\n",
        "\n",
        "# Show the figure with subplots\n",
        "fig.show()\n",
        "\n"
      ]
    },
    {
      "cell_type": "markdown",
      "metadata": {
        "id": "nTNV0r8l5_z9"
      },
      "source": []
    },
    {
      "cell_type": "code",
      "execution_count": null,
      "metadata": {
        "id": "0i6o2nItA_CE"
      },
      "outputs": [],
      "source": [
        "# spark.stop()"
      ]
    }
  ],
  "metadata": {
    "colab": {
      "provenance": []
    },
    "kernelspec": {
      "display_name": "Python 3",
      "name": "python3"
    },
    "language_info": {
      "codemirror_mode": {
        "name": "ipython",
        "version": 3
      },
      "file_extension": ".py",
      "mimetype": "text/x-python",
      "name": "python",
      "nbconvert_exporter": "python",
      "pygments_lexer": "ipython3",
      "version": "3.10.6"
    }
  },
  "nbformat": 4,
  "nbformat_minor": 0
}
